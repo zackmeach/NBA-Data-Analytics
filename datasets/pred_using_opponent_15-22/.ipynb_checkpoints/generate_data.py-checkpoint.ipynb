{
 "cells": [
  {
   "cell_type": "code",
   "execution_count": 1,
   "id": "6290d114",
   "metadata": {
    "ExecuteTime": {
     "end_time": "2022-01-19T19:09:49.877435Z",
     "start_time": "2022-01-19T19:09:49.872492Z"
    }
   },
   "outputs": [],
   "source": [
    "import nba_api\n",
    "import pandas as pd\n",
    "import warnings\n",
    "\n",
    "warnings.filterwarnings('ignore')\n",
    "pd.set_option(\"display.max_columns\", None)"
   ]
  },
  {
   "cell_type": "code",
   "execution_count": 3,
   "id": "057e6cd9",
   "metadata": {
    "ExecuteTime": {
     "end_time": "2022-01-19T19:10:23.517307Z",
     "start_time": "2022-01-19T19:10:23.513947Z"
    }
   },
   "outputs": [],
   "source": [
    "from nba_api.stats.endpoints.teamgamelogs import TeamGameLogs\n",
    "from nba_api.stats.endpoints.teamdashboardbygeneralsplits import TeamDashboardByGeneralSplits"
   ]
  },
  {
   "cell_type": "code",
   "execution_count": 4,
   "id": "b2c848dc",
   "metadata": {
    "ExecuteTime": {
     "end_time": "2022-01-19T19:11:06.660177Z",
     "start_time": "2022-01-19T19:11:06.547638Z"
    }
   },
   "outputs": [
    {
     "ename": "NameError",
     "evalue": "name 'hello' is not defined",
     "output_type": "error",
     "traceback": [
      "\u001b[0;31m---------------------------------------------------------------------------\u001b[0m",
      "\u001b[0;31mNameError\u001b[0m                                 Traceback (most recent call last)",
      "\u001b[0;32m/tmp/ipykernel_595430/3305111549.py\u001b[0m in \u001b[0;36m<module>\u001b[0;34m\u001b[0m\n\u001b[0;32m----> 1\u001b[0;31m \u001b[0mhello\u001b[0m\u001b[0;34m\u001b[0m\u001b[0;34m\u001b[0m\u001b[0m\n\u001b[0m",
      "\u001b[0;31mNameError\u001b[0m: name 'hello' is not defined"
     ]
    }
   ],
   "source": []
  }
 ],
 "metadata": {
  "kernelspec": {
   "display_name": "Python 3 (ipykernel)",
   "language": "python",
   "name": "python3"
  },
  "language_info": {
   "codemirror_mode": {
    "name": "ipython",
    "version": 3
   },
   "file_extension": ".py",
   "mimetype": "text/x-python",
   "name": "python",
   "nbconvert_exporter": "python",
   "pygments_lexer": "ipython3",
   "version": "3.7.7"
  },
  "varInspector": {
   "cols": {
    "lenName": 16,
    "lenType": 16,
    "lenVar": 40
   },
   "kernels_config": {
    "python": {
     "delete_cmd_postfix": "",
     "delete_cmd_prefix": "del ",
     "library": "var_list.py",
     "varRefreshCmd": "print(var_dic_list())"
    },
    "r": {
     "delete_cmd_postfix": ") ",
     "delete_cmd_prefix": "rm(",
     "library": "var_list.r",
     "varRefreshCmd": "cat(var_dic_list()) "
    }
   },
   "types_to_exclude": [
    "module",
    "function",
    "builtin_function_or_method",
    "instance",
    "_Feature"
   ],
   "window_display": false
  }
 },
 "nbformat": 4,
 "nbformat_minor": 5
}
