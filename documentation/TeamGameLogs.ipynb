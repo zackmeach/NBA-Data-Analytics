{
 "cells": [
  {
   "cell_type": "code",
   "execution_count": 12,
   "id": "caedf00e",
   "metadata": {
    "ExecuteTime": {
     "end_time": "2022-01-19T02:24:56.334175Z",
     "start_time": "2022-01-19T02:24:56.325917Z"
    }
   },
   "outputs": [],
   "source": [
    "import nba_api\n",
    "import pandas as pd\n",
    "import warnings\n",
    "\n",
    "warnings.filterwarnings('ignore')\n",
    "pd.set_option(\"display.max_columns\", None)"
   ]
  },
  {
   "cell_type": "code",
   "execution_count": 2,
   "id": "514ae149",
   "metadata": {
    "ExecuteTime": {
     "end_time": "2022-01-19T02:21:34.358592Z",
     "start_time": "2022-01-19T02:21:34.350639Z"
    }
   },
   "outputs": [],
   "source": [
    "from nba_api.stats.static.teams import find_team_by_abbreviation\n",
    "from nba_api.stats.endpoints.teamgamelogs import TeamGameLogs"
   ]
  },
  {
   "cell_type": "code",
   "execution_count": 3,
   "id": "172feeb7",
   "metadata": {
    "ExecuteTime": {
     "end_time": "2022-01-19T02:21:43.756174Z",
     "start_time": "2022-01-19T02:21:43.752104Z"
    }
   },
   "outputs": [],
   "source": [
    "cle = find_team_by_abbreviation('CLE')['id']"
   ]
  },
  {
   "cell_type": "code",
   "execution_count": 16,
   "id": "2405c539",
   "metadata": {
    "ExecuteTime": {
     "end_time": "2022-01-19T02:32:02.699578Z",
     "start_time": "2022-01-19T02:32:02.696279Z"
    }
   },
   "outputs": [],
   "source": [
    "discard = ['SEASON_YEAR', 'TEAM_ID', 'TEAM_ABBREVIATION', 'TEAM_NAME']"
   ]
  },
  {
   "cell_type": "code",
   "execution_count": 21,
   "id": "024f22d2",
   "metadata": {
    "ExecuteTime": {
     "end_time": "2022-01-19T02:33:32.443015Z",
     "start_time": "2022-01-19T02:33:32.228323Z"
    },
    "scrolled": false
   },
   "outputs": [
    {
     "data": {
      "text/html": [
       "<div>\n",
       "<style scoped>\n",
       "    .dataframe tbody tr th:only-of-type {\n",
       "        vertical-align: middle;\n",
       "    }\n",
       "\n",
       "    .dataframe tbody tr th {\n",
       "        vertical-align: top;\n",
       "    }\n",
       "\n",
       "    .dataframe thead th {\n",
       "        text-align: right;\n",
       "    }\n",
       "</style>\n",
       "<table border=\"1\" class=\"dataframe\">\n",
       "  <thead>\n",
       "    <tr style=\"text-align: right;\">\n",
       "      <th></th>\n",
       "      <th>GAME_ID</th>\n",
       "      <th>GAME_DATE</th>\n",
       "      <th>MATCHUP</th>\n",
       "      <th>WL</th>\n",
       "      <th>MIN</th>\n",
       "      <th>FGM</th>\n",
       "      <th>FGA</th>\n",
       "      <th>FG_PCT</th>\n",
       "      <th>FG3M</th>\n",
       "      <th>FG3A</th>\n",
       "      <th>FG3_PCT</th>\n",
       "      <th>FTM</th>\n",
       "      <th>FTA</th>\n",
       "      <th>FT_PCT</th>\n",
       "      <th>OREB</th>\n",
       "      <th>DREB</th>\n",
       "      <th>REB</th>\n",
       "      <th>AST</th>\n",
       "      <th>TOV</th>\n",
       "      <th>STL</th>\n",
       "      <th>BLK</th>\n",
       "      <th>BLKA</th>\n",
       "      <th>PF</th>\n",
       "      <th>PFD</th>\n",
       "      <th>PTS</th>\n",
       "      <th>PLUS_MINUS</th>\n",
       "    </tr>\n",
       "  </thead>\n",
       "  <tbody>\n",
       "    <tr>\n",
       "      <th>0</th>\n",
       "      <td>0022001067</td>\n",
       "      <td>2021-05-16T00:00:00</td>\n",
       "      <td>CLE @ BKN</td>\n",
       "      <td>L</td>\n",
       "      <td>48.5</td>\n",
       "      <td>38.4</td>\n",
       "      <td>85.9</td>\n",
       "      <td>0.447</td>\n",
       "      <td>12.1</td>\n",
       "      <td>39.4</td>\n",
       "      <td>0.308</td>\n",
       "      <td>21.2</td>\n",
       "      <td>31.3</td>\n",
       "      <td>0.677</td>\n",
       "      <td>11.1</td>\n",
       "      <td>34.3</td>\n",
       "      <td>45.5</td>\n",
       "      <td>16.2</td>\n",
       "      <td>16.2</td>\n",
       "      <td>8.1</td>\n",
       "      <td>5.1</td>\n",
       "      <td>9.1</td>\n",
       "      <td>14.1</td>\n",
       "      <td>20.2</td>\n",
       "      <td>110.1</td>\n",
       "      <td>-14.1</td>\n",
       "    </tr>\n",
       "    <tr>\n",
       "      <th>1</th>\n",
       "      <td>0022000204</td>\n",
       "      <td>2021-05-14T00:00:00</td>\n",
       "      <td>CLE @ WAS</td>\n",
       "      <td>L</td>\n",
       "      <td>47.1</td>\n",
       "      <td>38.2</td>\n",
       "      <td>82.4</td>\n",
       "      <td>0.464</td>\n",
       "      <td>9.8</td>\n",
       "      <td>35.3</td>\n",
       "      <td>0.278</td>\n",
       "      <td>16.7</td>\n",
       "      <td>20.6</td>\n",
       "      <td>0.810</td>\n",
       "      <td>6.9</td>\n",
       "      <td>36.3</td>\n",
       "      <td>43.1</td>\n",
       "      <td>23.5</td>\n",
       "      <td>16.7</td>\n",
       "      <td>3.9</td>\n",
       "      <td>2.9</td>\n",
       "      <td>5.9</td>\n",
       "      <td>20.6</td>\n",
       "      <td>18.6</td>\n",
       "      <td>102.9</td>\n",
       "      <td>-14.7</td>\n",
       "    </tr>\n",
       "    <tr>\n",
       "      <th>2</th>\n",
       "      <td>0022001044</td>\n",
       "      <td>2021-05-12T00:00:00</td>\n",
       "      <td>CLE vs. BOS</td>\n",
       "      <td>W</td>\n",
       "      <td>48.0</td>\n",
       "      <td>36.0</td>\n",
       "      <td>80.0</td>\n",
       "      <td>0.450</td>\n",
       "      <td>8.0</td>\n",
       "      <td>24.0</td>\n",
       "      <td>0.333</td>\n",
       "      <td>22.0</td>\n",
       "      <td>27.0</td>\n",
       "      <td>0.815</td>\n",
       "      <td>7.0</td>\n",
       "      <td>48.0</td>\n",
       "      <td>55.0</td>\n",
       "      <td>27.0</td>\n",
       "      <td>16.0</td>\n",
       "      <td>4.0</td>\n",
       "      <td>6.0</td>\n",
       "      <td>8.0</td>\n",
       "      <td>13.0</td>\n",
       "      <td>23.0</td>\n",
       "      <td>102.0</td>\n",
       "      <td>8.0</td>\n",
       "    </tr>\n",
       "    <tr>\n",
       "      <th>3</th>\n",
       "      <td>0022001027</td>\n",
       "      <td>2021-05-10T00:00:00</td>\n",
       "      <td>CLE vs. IND</td>\n",
       "      <td>L</td>\n",
       "      <td>49.5</td>\n",
       "      <td>34.0</td>\n",
       "      <td>95.9</td>\n",
       "      <td>0.355</td>\n",
       "      <td>13.4</td>\n",
       "      <td>40.2</td>\n",
       "      <td>0.333</td>\n",
       "      <td>23.7</td>\n",
       "      <td>30.9</td>\n",
       "      <td>0.767</td>\n",
       "      <td>15.5</td>\n",
       "      <td>36.1</td>\n",
       "      <td>51.5</td>\n",
       "      <td>21.6</td>\n",
       "      <td>12.4</td>\n",
       "      <td>8.2</td>\n",
       "      <td>2.1</td>\n",
       "      <td>13.4</td>\n",
       "      <td>13.4</td>\n",
       "      <td>21.6</td>\n",
       "      <td>105.2</td>\n",
       "      <td>-9.3</td>\n",
       "    </tr>\n",
       "    <tr>\n",
       "      <th>4</th>\n",
       "      <td>0022001021</td>\n",
       "      <td>2021-05-09T00:00:00</td>\n",
       "      <td>CLE vs. DAL</td>\n",
       "      <td>L</td>\n",
       "      <td>49.5</td>\n",
       "      <td>34.0</td>\n",
       "      <td>88.7</td>\n",
       "      <td>0.384</td>\n",
       "      <td>11.3</td>\n",
       "      <td>32.0</td>\n",
       "      <td>0.355</td>\n",
       "      <td>20.6</td>\n",
       "      <td>32.0</td>\n",
       "      <td>0.645</td>\n",
       "      <td>10.3</td>\n",
       "      <td>28.9</td>\n",
       "      <td>39.2</td>\n",
       "      <td>18.6</td>\n",
       "      <td>16.5</td>\n",
       "      <td>5.2</td>\n",
       "      <td>2.1</td>\n",
       "      <td>7.2</td>\n",
       "      <td>12.4</td>\n",
       "      <td>24.7</td>\n",
       "      <td>100.0</td>\n",
       "      <td>-27.8</td>\n",
       "    </tr>\n",
       "  </tbody>\n",
       "</table>\n",
       "</div>"
      ],
      "text/plain": [
       "      GAME_ID            GAME_DATE      MATCHUP WL   MIN   FGM   FGA  FG_PCT  \\\n",
       "0  0022001067  2021-05-16T00:00:00    CLE @ BKN  L  48.5  38.4  85.9   0.447   \n",
       "1  0022000204  2021-05-14T00:00:00    CLE @ WAS  L  47.1  38.2  82.4   0.464   \n",
       "2  0022001044  2021-05-12T00:00:00  CLE vs. BOS  W  48.0  36.0  80.0   0.450   \n",
       "3  0022001027  2021-05-10T00:00:00  CLE vs. IND  L  49.5  34.0  95.9   0.355   \n",
       "4  0022001021  2021-05-09T00:00:00  CLE vs. DAL  L  49.5  34.0  88.7   0.384   \n",
       "\n",
       "   FG3M  FG3A  FG3_PCT   FTM   FTA  FT_PCT  OREB  DREB   REB   AST   TOV  STL  \\\n",
       "0  12.1  39.4    0.308  21.2  31.3   0.677  11.1  34.3  45.5  16.2  16.2  8.1   \n",
       "1   9.8  35.3    0.278  16.7  20.6   0.810   6.9  36.3  43.1  23.5  16.7  3.9   \n",
       "2   8.0  24.0    0.333  22.0  27.0   0.815   7.0  48.0  55.0  27.0  16.0  4.0   \n",
       "3  13.4  40.2    0.333  23.7  30.9   0.767  15.5  36.1  51.5  21.6  12.4  8.2   \n",
       "4  11.3  32.0    0.355  20.6  32.0   0.645  10.3  28.9  39.2  18.6  16.5  5.2   \n",
       "\n",
       "   BLK  BLKA    PF   PFD    PTS  PLUS_MINUS  \n",
       "0  5.1   9.1  14.1  20.2  110.1       -14.1  \n",
       "1  2.9   5.9  20.6  18.6  102.9       -14.7  \n",
       "2  6.0   8.0  13.0  23.0  102.0         8.0  \n",
       "3  2.1  13.4  13.4  21.6  105.2        -9.3  \n",
       "4  2.1   7.2  12.4  24.7  100.0       -27.8  "
      ]
     },
     "execution_count": 21,
     "metadata": {},
     "output_type": "execute_result"
    }
   ],
   "source": [
    "logs = TeamGameLogs(team_id_nullable=cle,\n",
    "                    season_nullable='2020-21',\n",
    "                    per_mode_simple_nullable='Per100Possessions').get_data_frames()[0]\n",
    "logs.drop(columns=discard, inplace=True)\n",
    "logs.drop(logs.iloc[:, 26:], inplace=True, axis=1)\n",
    "logs.head(5)"
   ]
  }
 ],
 "metadata": {
  "kernelspec": {
   "display_name": "Python 3 (ipykernel)",
   "language": "python",
   "name": "python3"
  },
  "language_info": {
   "codemirror_mode": {
    "name": "ipython",
    "version": 3
   },
   "file_extension": ".py",
   "mimetype": "text/x-python",
   "name": "python",
   "nbconvert_exporter": "python",
   "pygments_lexer": "ipython3",
   "version": "3.7.7"
  },
  "varInspector": {
   "cols": {
    "lenName": 16,
    "lenType": 16,
    "lenVar": 40
   },
   "kernels_config": {
    "python": {
     "delete_cmd_postfix": "",
     "delete_cmd_prefix": "del ",
     "library": "var_list.py",
     "varRefreshCmd": "print(var_dic_list())"
    },
    "r": {
     "delete_cmd_postfix": ") ",
     "delete_cmd_prefix": "rm(",
     "library": "var_list.r",
     "varRefreshCmd": "cat(var_dic_list()) "
    }
   },
   "types_to_exclude": [
    "module",
    "function",
    "builtin_function_or_method",
    "instance",
    "_Feature"
   ],
   "window_display": false
  }
 },
 "nbformat": 4,
 "nbformat_minor": 5
}
